{
 "cells": [
  {
   "cell_type": "markdown",
   "id": "fe26e067-b1ef-48bf-8207-3a50ddc738c9",
   "metadata": {},
   "source": [
    "# Data Science Tools and Ecosystem"
   ]
  },
  {
   "cell_type": "markdown",
   "id": "04799a57-894f-41a6-8039-17d22b9a829c",
   "metadata": {},
   "source": [
    "# In this notebook, Data Science Tools and Ecosystem are summarized."
   ]
  },
  {
   "cell_type": "markdown",
   "id": "789675db-5bb6-4881-ace8-bb1ebc43c05f",
   "metadata": {},
   "source": [
    "# Some of the popular languages that Data Scientists use are:\n",
    "1. Python\n",
    "2. SQL\n",
    "3. R\n",
    "4. VBA\n",
    "5. Julia"
   ]
  },
  {
   "cell_type": "markdown",
   "id": "42ad5265-bf14-464a-93ba-02dbc6827232",
   "metadata": {},
   "source": [
    "# Some of the commonly used libraries used by Data Scientists include:\n",
    "1. TensorFlow\n",
    "2. Numpy\n",
    "3. Pandas\n",
    "4. Keras\n",
    "5. Pytorch"
   ]
  },
  {
   "cell_type": "markdown",
   "id": "8f29875f-14b9-437b-b8e2-e05d4904609c",
   "metadata": {},
   "source": [
    "| Data Science Tools |\n",
    "| ------------------ |\n",
    "| Tableau |\n",
    "| Apache Spark |\n",
    "| SAS |\n"
   ]
  },
  {
   "cell_type": "markdown",
   "id": "1e172dad-01c5-4675-930a-a657a138f8e1",
   "metadata": {},
   "source": [
    "### Below are a few examples of evaluating arithmetic expressions in Python."
   ]
  },
  {
   "cell_type": "code",
   "execution_count": 2,
   "id": "256ee319-1314-4a62-9994-efdf767bd98a",
   "metadata": {},
   "outputs": [
    {
     "data": {
      "text/plain": [
       "17"
      ]
     },
     "execution_count": 2,
     "metadata": {},
     "output_type": "execute_result"
    }
   ],
   "source": [
    "(3*4)+5\n",
    "# This a simple arithmetic expression to mutiply then add integers"
   ]
  },
  {
   "cell_type": "code",
   "execution_count": 3,
   "id": "56cb2535-1913-4e5f-9504-0e841e963e6d",
   "metadata": {},
   "outputs": [
    {
     "data": {
      "text/plain": [
       "3.3333333333333335"
      ]
     },
     "execution_count": 3,
     "metadata": {},
     "output_type": "execute_result"
    }
   ],
   "source": [
    "(200/60)\n",
    " # This will convert 200 minutes to hours by diving by 60."
   ]
  },
  {
   "cell_type": "markdown",
   "id": "0417b05e-b59a-46a9-bfec-f3a5b764149d",
   "metadata": {
    "scrolled": true
   },
   "source": [
    "**# Objectives:**\n",
    "- Create a jupyter file\n",
    "-  Rename the jupyter file\n",
    "-  list the important data science tool\n",
    "-  list languages used in data science"
   ]
  },
  {
   "cell_type": "markdown",
   "id": "8a29aa0d-3473-4478-b211-7e69d9f4b480",
   "metadata": {},
   "source": [
    "## Author\n",
    "## N.Deb"
   ]
  },
  {
   "cell_type": "code",
   "execution_count": null,
   "id": "eef470d0-5dda-47cc-9ac5-a24a29f88fe9",
   "metadata": {},
   "outputs": [],
   "source": []
  }
 ],
 "metadata": {
  "kernelspec": {
   "display_name": "Python 3 (ipykernel)",
   "language": "python",
   "name": "python3"
  },
  "language_info": {
   "codemirror_mode": {
    "name": "ipython",
    "version": 3
   },
   "file_extension": ".py",
   "mimetype": "text/x-python",
   "name": "python",
   "nbconvert_exporter": "python",
   "pygments_lexer": "ipython3",
   "version": "3.12.2"
  }
 },
 "nbformat": 4,
 "nbformat_minor": 5
}
